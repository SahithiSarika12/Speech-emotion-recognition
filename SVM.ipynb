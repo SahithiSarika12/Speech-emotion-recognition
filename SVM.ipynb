{
 "cells": [
  {
   "cell_type": "code",
   "execution_count": 1,
   "metadata": {},
   "outputs": [],
   "source": [
    "import pandas as pd\n",
    "import numpy as np"
   ]
  },
  {
   "cell_type": "code",
   "execution_count": 3,
   "metadata": {},
   "outputs": [
    {
     "name": "stdout",
     "output_type": "stream",
     "text": [
      "data loaded in 0.16795015335083008 ms\n",
      "   Unnamed: 0           0          1          2          3          4  \\\n",
      "0        1737 -465.585449  83.555794   7.898191   1.845573   9.589481   \n",
      "1         358 -608.932800  56.456070 -45.398525  17.257446 -18.685335   \n",
      "2         277 -668.708923  66.747795 -11.002393  24.854563  -3.741007   \n",
      "3        2757 -545.600830  85.160782  26.692595  29.094379  15.003597   \n",
      "4        3432 -324.575592  43.163139 -24.836311  23.449015 -16.303528   \n",
      "\n",
      "           5          6          7          8  ...           171  \\\n",
      "0  16.620991 -18.170990   8.031609 -16.714731  ...  1.614745e-04   \n",
      "1  -6.954247 -19.358278 -15.089822  -4.008198  ...  9.919672e-12   \n",
      "2   2.820232  -6.700864  -2.206323  -1.440481  ...  3.368504e-12   \n",
      "3  12.542657 -19.132849  -3.636678 -15.840714  ...  5.446315e-05   \n",
      "4  -1.034032  -9.414081   3.486397 -15.959109  ...  5.275351e-03   \n",
      "\n",
      "            172           173           174           175           176  \\\n",
      "0  1.489774e-04  1.082331e-04  7.832934e-05  3.076414e-05  9.439812e-06   \n",
      "1  9.638627e-12  3.004074e-11  2.009821e-11  1.407661e-11  1.301384e-11   \n",
      "2  3.332721e-12  7.175953e-12  4.500260e-12  5.371889e-12  3.719719e-12   \n",
      "3  1.059334e-05  5.718410e-06  3.124374e-06  2.469191e-06  1.688812e-06   \n",
      "4  6.099407e-03  4.937004e-03  4.090378e-03  7.883835e-04  2.051225e-04   \n",
      "\n",
      "            177           178           179    Emotion  \n",
      "0  2.091660e-06  2.957747e-07  2.364530e-08    disgust  \n",
      "1  1.577758e-11  2.411851e-11  2.308979e-11  surprised  \n",
      "2  5.621874e-12  5.378570e-12  5.130835e-12       fear  \n",
      "3  3.057819e-07  5.100989e-08  4.805832e-09        sad  \n",
      "4  8.221862e-05  3.210119e-05  3.558323e-06       fear  \n",
      "\n",
      "[5 rows x 182 columns]\n"
     ]
    }
   ],
   "source": [
    "import time\n",
    "starting_time = time.time()\n",
    "dataframe = pd.read_csv(r\"C:\\Users\\Sahithi Sarika\\OneDrive\\Desktop\\SER\\RAVDESS,TESS_mfcc_chroma_mel.csv\")\n",
    "print(\"data loaded in \" + str(time.time()-starting_time) + \" ms\")\n",
    "\n",
    "print(dataframe.head())"
   ]
  },
  {
   "cell_type": "code",
   "execution_count": 4,
   "metadata": {},
   "outputs": [],
   "source": [
    "# dropping the column Unnamed: 0 to removed shuffled index\n",
    "dataframe = dataframe.iloc[:,1:]"
   ]
  },
  {
   "cell_type": "code",
   "execution_count": 5,
   "metadata": {},
   "outputs": [
    {
     "data": {
      "text/plain": [
       "(4240, 181)"
      ]
     },
     "execution_count": 5,
     "metadata": {},
     "output_type": "execute_result"
    }
   ],
   "source": [
    "dataframe.shape"
   ]
  },
  {
   "cell_type": "code",
   "execution_count": 6,
   "metadata": {},
   "outputs": [
    {
     "data": {
      "text/plain": [
       "Index(['0', '1', '2', '3', '4', '5', '6', '7', '8', '9',\n",
       "       ...\n",
       "       '171', '172', '173', '174', '175', '176', '177', '178', '179',\n",
       "       'Emotion'],\n",
       "      dtype='object', length=181)"
      ]
     },
     "execution_count": 6,
     "metadata": {},
     "output_type": "execute_result"
    }
   ],
   "source": [
    "dataframe.columns"
   ]
  },
  {
   "cell_type": "code",
   "execution_count": 6,
   "metadata": {
    "scrolled": true
   },
   "outputs": [
    {
     "data": {
      "text/html": [
       "<div>\n",
       "<style scoped>\n",
       "    .dataframe tbody tr th:only-of-type {\n",
       "        vertical-align: middle;\n",
       "    }\n",
       "\n",
       "    .dataframe tbody tr th {\n",
       "        vertical-align: top;\n",
       "    }\n",
       "\n",
       "    .dataframe thead th {\n",
       "        text-align: right;\n",
       "    }\n",
       "</style>\n",
       "<table border=\"1\" class=\"dataframe\">\n",
       "  <thead>\n",
       "    <tr style=\"text-align: right;\">\n",
       "      <th></th>\n",
       "      <th>0</th>\n",
       "      <th>1</th>\n",
       "      <th>2</th>\n",
       "      <th>3</th>\n",
       "      <th>4</th>\n",
       "      <th>5</th>\n",
       "      <th>6</th>\n",
       "      <th>7</th>\n",
       "      <th>8</th>\n",
       "      <th>9</th>\n",
       "      <th>...</th>\n",
       "      <th>171</th>\n",
       "      <th>172</th>\n",
       "      <th>173</th>\n",
       "      <th>174</th>\n",
       "      <th>175</th>\n",
       "      <th>176</th>\n",
       "      <th>177</th>\n",
       "      <th>178</th>\n",
       "      <th>179</th>\n",
       "      <th>Emotion</th>\n",
       "    </tr>\n",
       "  </thead>\n",
       "  <tbody>\n",
       "    <tr>\n",
       "      <th>0</th>\n",
       "      <td>-465.585449</td>\n",
       "      <td>83.555794</td>\n",
       "      <td>7.898191</td>\n",
       "      <td>1.845573</td>\n",
       "      <td>9.589481</td>\n",
       "      <td>16.620991</td>\n",
       "      <td>-18.170990</td>\n",
       "      <td>8.031609</td>\n",
       "      <td>-16.714731</td>\n",
       "      <td>7.079723</td>\n",
       "      <td>...</td>\n",
       "      <td>1.614745e-04</td>\n",
       "      <td>1.489774e-04</td>\n",
       "      <td>1.082331e-04</td>\n",
       "      <td>7.832934e-05</td>\n",
       "      <td>3.076414e-05</td>\n",
       "      <td>9.439812e-06</td>\n",
       "      <td>2.091660e-06</td>\n",
       "      <td>2.957747e-07</td>\n",
       "      <td>2.364530e-08</td>\n",
       "      <td>disgust</td>\n",
       "    </tr>\n",
       "    <tr>\n",
       "      <th>1</th>\n",
       "      <td>-608.932800</td>\n",
       "      <td>56.456070</td>\n",
       "      <td>-45.398525</td>\n",
       "      <td>17.257446</td>\n",
       "      <td>-18.685335</td>\n",
       "      <td>-6.954247</td>\n",
       "      <td>-19.358278</td>\n",
       "      <td>-15.089822</td>\n",
       "      <td>-4.008198</td>\n",
       "      <td>-3.471641</td>\n",
       "      <td>...</td>\n",
       "      <td>9.919672e-12</td>\n",
       "      <td>9.638627e-12</td>\n",
       "      <td>3.004074e-11</td>\n",
       "      <td>2.009821e-11</td>\n",
       "      <td>1.407661e-11</td>\n",
       "      <td>1.301384e-11</td>\n",
       "      <td>1.577758e-11</td>\n",
       "      <td>2.411851e-11</td>\n",
       "      <td>2.308979e-11</td>\n",
       "      <td>surprised</td>\n",
       "    </tr>\n",
       "    <tr>\n",
       "      <th>2</th>\n",
       "      <td>-668.708923</td>\n",
       "      <td>66.747795</td>\n",
       "      <td>-11.002393</td>\n",
       "      <td>24.854563</td>\n",
       "      <td>-3.741007</td>\n",
       "      <td>2.820232</td>\n",
       "      <td>-6.700864</td>\n",
       "      <td>-2.206323</td>\n",
       "      <td>-1.440481</td>\n",
       "      <td>-3.329082</td>\n",
       "      <td>...</td>\n",
       "      <td>3.368504e-12</td>\n",
       "      <td>3.332721e-12</td>\n",
       "      <td>7.175953e-12</td>\n",
       "      <td>4.500260e-12</td>\n",
       "      <td>5.371889e-12</td>\n",
       "      <td>3.719719e-12</td>\n",
       "      <td>5.621874e-12</td>\n",
       "      <td>5.378570e-12</td>\n",
       "      <td>5.130835e-12</td>\n",
       "      <td>fear</td>\n",
       "    </tr>\n",
       "    <tr>\n",
       "      <th>3</th>\n",
       "      <td>-545.600830</td>\n",
       "      <td>85.160782</td>\n",
       "      <td>26.692595</td>\n",
       "      <td>29.094379</td>\n",
       "      <td>15.003597</td>\n",
       "      <td>12.542657</td>\n",
       "      <td>-19.132849</td>\n",
       "      <td>-3.636678</td>\n",
       "      <td>-15.840714</td>\n",
       "      <td>7.847837</td>\n",
       "      <td>...</td>\n",
       "      <td>5.446315e-05</td>\n",
       "      <td>1.059334e-05</td>\n",
       "      <td>5.718410e-06</td>\n",
       "      <td>3.124374e-06</td>\n",
       "      <td>2.469191e-06</td>\n",
       "      <td>1.688812e-06</td>\n",
       "      <td>3.057819e-07</td>\n",
       "      <td>5.100989e-08</td>\n",
       "      <td>4.805832e-09</td>\n",
       "      <td>sad</td>\n",
       "    </tr>\n",
       "    <tr>\n",
       "      <th>4</th>\n",
       "      <td>-324.575592</td>\n",
       "      <td>43.163139</td>\n",
       "      <td>-24.836311</td>\n",
       "      <td>23.449015</td>\n",
       "      <td>-16.303528</td>\n",
       "      <td>-1.034032</td>\n",
       "      <td>-9.414081</td>\n",
       "      <td>3.486397</td>\n",
       "      <td>-15.959109</td>\n",
       "      <td>8.463060</td>\n",
       "      <td>...</td>\n",
       "      <td>5.275351e-03</td>\n",
       "      <td>6.099407e-03</td>\n",
       "      <td>4.937004e-03</td>\n",
       "      <td>4.090378e-03</td>\n",
       "      <td>7.883835e-04</td>\n",
       "      <td>2.051225e-04</td>\n",
       "      <td>8.221862e-05</td>\n",
       "      <td>3.210119e-05</td>\n",
       "      <td>3.558323e-06</td>\n",
       "      <td>fear</td>\n",
       "    </tr>\n",
       "    <tr>\n",
       "      <th>...</th>\n",
       "      <td>...</td>\n",
       "      <td>...</td>\n",
       "      <td>...</td>\n",
       "      <td>...</td>\n",
       "      <td>...</td>\n",
       "      <td>...</td>\n",
       "      <td>...</td>\n",
       "      <td>...</td>\n",
       "      <td>...</td>\n",
       "      <td>...</td>\n",
       "      <td>...</td>\n",
       "      <td>...</td>\n",
       "      <td>...</td>\n",
       "      <td>...</td>\n",
       "      <td>...</td>\n",
       "      <td>...</td>\n",
       "      <td>...</td>\n",
       "      <td>...</td>\n",
       "      <td>...</td>\n",
       "      <td>...</td>\n",
       "      <td>...</td>\n",
       "    </tr>\n",
       "    <tr>\n",
       "      <th>4235</th>\n",
       "      <td>-339.038940</td>\n",
       "      <td>42.536827</td>\n",
       "      <td>-24.625620</td>\n",
       "      <td>35.382183</td>\n",
       "      <td>-22.637024</td>\n",
       "      <td>-8.269244</td>\n",
       "      <td>-2.558137</td>\n",
       "      <td>-19.996466</td>\n",
       "      <td>-15.020565</td>\n",
       "      <td>-2.956964</td>\n",
       "      <td>...</td>\n",
       "      <td>3.191106e-02</td>\n",
       "      <td>2.830726e-02</td>\n",
       "      <td>1.731047e-02</td>\n",
       "      <td>3.925761e-03</td>\n",
       "      <td>3.666839e-03</td>\n",
       "      <td>1.765839e-03</td>\n",
       "      <td>4.299184e-04</td>\n",
       "      <td>9.000090e-05</td>\n",
       "      <td>5.620218e-06</td>\n",
       "      <td>angry</td>\n",
       "    </tr>\n",
       "    <tr>\n",
       "      <th>4236</th>\n",
       "      <td>-421.504242</td>\n",
       "      <td>64.692368</td>\n",
       "      <td>-4.980181</td>\n",
       "      <td>-4.194294</td>\n",
       "      <td>-18.406929</td>\n",
       "      <td>11.884348</td>\n",
       "      <td>-16.636267</td>\n",
       "      <td>-7.729247</td>\n",
       "      <td>-23.249331</td>\n",
       "      <td>-0.260980</td>\n",
       "      <td>...</td>\n",
       "      <td>2.040632e-04</td>\n",
       "      <td>1.774058e-04</td>\n",
       "      <td>1.180428e-04</td>\n",
       "      <td>4.920479e-05</td>\n",
       "      <td>1.540893e-05</td>\n",
       "      <td>7.628550e-06</td>\n",
       "      <td>2.600157e-06</td>\n",
       "      <td>5.838905e-07</td>\n",
       "      <td>7.337579e-08</td>\n",
       "      <td>angry</td>\n",
       "    </tr>\n",
       "    <tr>\n",
       "      <th>4237</th>\n",
       "      <td>-549.666748</td>\n",
       "      <td>44.521404</td>\n",
       "      <td>-26.445839</td>\n",
       "      <td>14.719639</td>\n",
       "      <td>-21.298677</td>\n",
       "      <td>-0.465993</td>\n",
       "      <td>-8.235730</td>\n",
       "      <td>-12.101176</td>\n",
       "      <td>-6.143368</td>\n",
       "      <td>-5.700206</td>\n",
       "      <td>...</td>\n",
       "      <td>4.056244e-11</td>\n",
       "      <td>1.796416e-11</td>\n",
       "      <td>3.824108e-11</td>\n",
       "      <td>4.180579e-11</td>\n",
       "      <td>3.803939e-11</td>\n",
       "      <td>1.566865e-11</td>\n",
       "      <td>4.359672e-11</td>\n",
       "      <td>4.830376e-11</td>\n",
       "      <td>8.015742e-11</td>\n",
       "      <td>angry</td>\n",
       "    </tr>\n",
       "    <tr>\n",
       "      <th>4238</th>\n",
       "      <td>-603.696594</td>\n",
       "      <td>56.273426</td>\n",
       "      <td>-25.628159</td>\n",
       "      <td>19.209103</td>\n",
       "      <td>-11.562325</td>\n",
       "      <td>-2.983479</td>\n",
       "      <td>-13.162412</td>\n",
       "      <td>-9.226983</td>\n",
       "      <td>-4.540275</td>\n",
       "      <td>-2.947338</td>\n",
       "      <td>...</td>\n",
       "      <td>1.010043e-11</td>\n",
       "      <td>8.031959e-12</td>\n",
       "      <td>2.427894e-11</td>\n",
       "      <td>1.376348e-11</td>\n",
       "      <td>1.461778e-11</td>\n",
       "      <td>9.511937e-12</td>\n",
       "      <td>1.739894e-11</td>\n",
       "      <td>1.660579e-11</td>\n",
       "      <td>2.154090e-11</td>\n",
       "      <td>happy</td>\n",
       "    </tr>\n",
       "    <tr>\n",
       "      <th>4239</th>\n",
       "      <td>-642.866333</td>\n",
       "      <td>72.626450</td>\n",
       "      <td>-25.773512</td>\n",
       "      <td>20.778631</td>\n",
       "      <td>-0.327112</td>\n",
       "      <td>0.547904</td>\n",
       "      <td>-7.490463</td>\n",
       "      <td>-1.607295</td>\n",
       "      <td>-10.976254</td>\n",
       "      <td>-6.931380</td>\n",
       "      <td>...</td>\n",
       "      <td>1.018575e-11</td>\n",
       "      <td>7.107031e-12</td>\n",
       "      <td>1.306812e-11</td>\n",
       "      <td>1.400557e-11</td>\n",
       "      <td>1.538896e-11</td>\n",
       "      <td>8.717025e-12</td>\n",
       "      <td>1.394847e-11</td>\n",
       "      <td>1.088443e-11</td>\n",
       "      <td>1.137415e-11</td>\n",
       "      <td>neutral</td>\n",
       "    </tr>\n",
       "  </tbody>\n",
       "</table>\n",
       "<p>4240 rows × 181 columns</p>\n",
       "</div>"
      ],
      "text/plain": [
       "               0          1          2          3          4          5  \\\n",
       "0    -465.585449  83.555794   7.898191   1.845573   9.589481  16.620991   \n",
       "1    -608.932800  56.456070 -45.398525  17.257446 -18.685335  -6.954247   \n",
       "2    -668.708923  66.747795 -11.002393  24.854563  -3.741007   2.820232   \n",
       "3    -545.600830  85.160782  26.692595  29.094379  15.003597  12.542657   \n",
       "4    -324.575592  43.163139 -24.836311  23.449015 -16.303528  -1.034032   \n",
       "...          ...        ...        ...        ...        ...        ...   \n",
       "4235 -339.038940  42.536827 -24.625620  35.382183 -22.637024  -8.269244   \n",
       "4236 -421.504242  64.692368  -4.980181  -4.194294 -18.406929  11.884348   \n",
       "4237 -549.666748  44.521404 -26.445839  14.719639 -21.298677  -0.465993   \n",
       "4238 -603.696594  56.273426 -25.628159  19.209103 -11.562325  -2.983479   \n",
       "4239 -642.866333  72.626450 -25.773512  20.778631  -0.327112   0.547904   \n",
       "\n",
       "              6          7          8         9  ...           171  \\\n",
       "0    -18.170990   8.031609 -16.714731  7.079723  ...  1.614745e-04   \n",
       "1    -19.358278 -15.089822  -4.008198 -3.471641  ...  9.919672e-12   \n",
       "2     -6.700864  -2.206323  -1.440481 -3.329082  ...  3.368504e-12   \n",
       "3    -19.132849  -3.636678 -15.840714  7.847837  ...  5.446315e-05   \n",
       "4     -9.414081   3.486397 -15.959109  8.463060  ...  5.275351e-03   \n",
       "...         ...        ...        ...       ...  ...           ...   \n",
       "4235  -2.558137 -19.996466 -15.020565 -2.956964  ...  3.191106e-02   \n",
       "4236 -16.636267  -7.729247 -23.249331 -0.260980  ...  2.040632e-04   \n",
       "4237  -8.235730 -12.101176  -6.143368 -5.700206  ...  4.056244e-11   \n",
       "4238 -13.162412  -9.226983  -4.540275 -2.947338  ...  1.010043e-11   \n",
       "4239  -7.490463  -1.607295 -10.976254 -6.931380  ...  1.018575e-11   \n",
       "\n",
       "               172           173           174           175           176  \\\n",
       "0     1.489774e-04  1.082331e-04  7.832934e-05  3.076414e-05  9.439812e-06   \n",
       "1     9.638627e-12  3.004074e-11  2.009821e-11  1.407661e-11  1.301384e-11   \n",
       "2     3.332721e-12  7.175953e-12  4.500260e-12  5.371889e-12  3.719719e-12   \n",
       "3     1.059334e-05  5.718410e-06  3.124374e-06  2.469191e-06  1.688812e-06   \n",
       "4     6.099407e-03  4.937004e-03  4.090378e-03  7.883835e-04  2.051225e-04   \n",
       "...            ...           ...           ...           ...           ...   \n",
       "4235  2.830726e-02  1.731047e-02  3.925761e-03  3.666839e-03  1.765839e-03   \n",
       "4236  1.774058e-04  1.180428e-04  4.920479e-05  1.540893e-05  7.628550e-06   \n",
       "4237  1.796416e-11  3.824108e-11  4.180579e-11  3.803939e-11  1.566865e-11   \n",
       "4238  8.031959e-12  2.427894e-11  1.376348e-11  1.461778e-11  9.511937e-12   \n",
       "4239  7.107031e-12  1.306812e-11  1.400557e-11  1.538896e-11  8.717025e-12   \n",
       "\n",
       "               177           178           179    Emotion  \n",
       "0     2.091660e-06  2.957747e-07  2.364530e-08    disgust  \n",
       "1     1.577758e-11  2.411851e-11  2.308979e-11  surprised  \n",
       "2     5.621874e-12  5.378570e-12  5.130835e-12       fear  \n",
       "3     3.057819e-07  5.100989e-08  4.805832e-09        sad  \n",
       "4     8.221862e-05  3.210119e-05  3.558323e-06       fear  \n",
       "...            ...           ...           ...        ...  \n",
       "4235  4.299184e-04  9.000090e-05  5.620218e-06      angry  \n",
       "4236  2.600157e-06  5.838905e-07  7.337579e-08      angry  \n",
       "4237  4.359672e-11  4.830376e-11  8.015742e-11      angry  \n",
       "4238  1.739894e-11  1.660579e-11  2.154090e-11      happy  \n",
       "4239  1.394847e-11  1.088443e-11  1.137415e-11    neutral  \n",
       "\n",
       "[4240 rows x 181 columns]"
      ]
     },
     "execution_count": 6,
     "metadata": {},
     "output_type": "execute_result"
    }
   ],
   "source": [
    "dataframe"
   ]
  },
  {
   "cell_type": "code",
   "execution_count": 11,
   "metadata": {},
   "outputs": [],
   "source": [
    "#separating features and target outputs\n",
    "X = dataframe.drop('Emotion', axis = 1).values\n",
    "Y = dataframe['Emotion'].values # return a Numpy representation of the given DataFrame"
   ]
  },
  {
   "cell_type": "code",
   "execution_count": 12,
   "metadata": {},
   "outputs": [
    {
     "data": {
      "text/plain": [
       "array(['disgust', 'surprised', 'fear', ..., 'angry', 'happy', 'neutral'],\n",
       "      dtype=object)"
      ]
     },
     "execution_count": 12,
     "metadata": {},
     "output_type": "execute_result"
    }
   ],
   "source": [
    "Y"
   ]
  },
  {
   "cell_type": "markdown",
   "metadata": {},
   "source": [
    "## SVM\n",
    "  ### Implementing SVM with Scikit-Learn"
   ]
  },
  {
   "cell_type": "code",
   "execution_count": 13,
   "metadata": {},
   "outputs": [],
   "source": [
    "import pandas as pd\n",
    "import numpy as np\n",
    "import matplotlib.pyplot as plt\n",
    "%matplotlib inline"
   ]
  },
  {
   "cell_type": "code",
   "execution_count": 14,
   "metadata": {},
   "outputs": [
    {
     "data": {
      "text/plain": [
       "((4240, 180), (4240,))"
      ]
     },
     "execution_count": 14,
     "metadata": {},
     "output_type": "execute_result"
    }
   ],
   "source": [
    "X.shape, Y.shape"
   ]
  },
  {
   "cell_type": "code",
   "execution_count": 15,
   "metadata": {
    "scrolled": true
   },
   "outputs": [
    {
     "data": {
      "text/plain": [
       "array([[-4.65585449e+02,  8.35557938e+01,  7.89819145e+00, ...,\n",
       "         2.09165955e-06,  2.95774669e-07,  2.36453008e-08],\n",
       "       [-6.08932800e+02,  5.64560699e+01, -4.53985252e+01, ...,\n",
       "         1.57775841e-11,  2.41185075e-11,  2.30897888e-11],\n",
       "       [-6.68708923e+02,  6.67477951e+01, -1.10023928e+01, ...,\n",
       "         5.62187449e-12,  5.37856955e-12,  5.13083456e-12],\n",
       "       ...,\n",
       "       [-5.49666748e+02,  4.45214043e+01, -2.64458389e+01, ...,\n",
       "         4.35967200e-11,  4.83037603e-11,  8.01574154e-11],\n",
       "       [-6.03696594e+02,  5.62734261e+01, -2.56281586e+01, ...,\n",
       "         1.73989399e-11,  1.66057862e-11,  2.15408958e-11],\n",
       "       [-6.42866333e+02,  7.26264496e+01, -2.57735119e+01, ...,\n",
       "         1.39484717e-11,  1.08844279e-11,  1.13741473e-11]])"
      ]
     },
     "execution_count": 15,
     "metadata": {},
     "output_type": "execute_result"
    }
   ],
   "source": [
    "X"
   ]
  },
  {
   "cell_type": "code",
   "execution_count": 16,
   "metadata": {},
   "outputs": [
    {
     "data": {
      "text/plain": [
       "array(['disgust', 'surprised', 'fear', ..., 'angry', 'happy', 'neutral'],\n",
       "      dtype=object)"
      ]
     },
     "execution_count": 16,
     "metadata": {},
     "output_type": "execute_result"
    }
   ],
   "source": [
    "Y"
   ]
  },
  {
   "cell_type": "markdown",
   "metadata": {},
   "source": [
    "##### X variable contains attributes while y variable contains corresponding labels.\n",
    "##### Once the data is divided into attributes and labels, the final preprocessing step is to divide data into training and test sets. The model_selection library of the Scikit-Learn library contains the train_test_split method that allows us to divide data into training and test sets."
   ]
  },
  {
   "cell_type": "code",
   "execution_count": 17,
   "metadata": {},
   "outputs": [],
   "source": [
    "from sklearn.model_selection import train_test_split\n",
    "X_train, X_test, Y_train, Y_test = train_test_split(X, Y, test_size = 0.20,random_state=4)"
   ]
  },
  {
   "cell_type": "code",
   "execution_count": 14,
   "metadata": {},
   "outputs": [
    {
     "data": {
      "text/plain": [
       "array([[-4.54373596e+02,  7.28050461e+01, -6.45781326e+00, ...,\n",
       "         2.34867566e-05,  4.24355312e-06,  3.43741391e-07],\n",
       "       [-4.63416992e+02,  7.68970413e+01,  2.60824895e+00, ...,\n",
       "         4.99100724e-06,  7.05502032e-07,  6.95000324e-08],\n",
       "       [-4.14976532e+02,  6.54819717e+01, -1.24586802e+01, ...,\n",
       "         2.25332333e-05,  3.70590942e-06,  4.97953693e-07],\n",
       "       ...,\n",
       "       [-4.55075287e+02,  3.82345467e+01, -3.87385712e+01, ...,\n",
       "         1.90568825e-10,  4.39186243e-10,  5.59371827e-10],\n",
       "       [-4.37322357e+02,  6.78759155e+01,  8.94060326e+00, ...,\n",
       "         5.18454544e-06,  1.07739299e-06,  1.26459213e-07],\n",
       "       [-5.82521790e+02,  8.02693863e+01, -2.05330429e+01, ...,\n",
       "         2.86937418e-11,  2.22988798e-11,  2.37968430e-11]])"
      ]
     },
     "execution_count": 14,
     "metadata": {},
     "output_type": "execute_result"
    }
   ],
   "source": [
    "X_test"
   ]
  },
  {
   "cell_type": "code",
   "execution_count": 18,
   "metadata": {
    "scrolled": true
   },
   "outputs": [
    {
     "data": {
      "text/plain": [
       "array(['disgust', 'happy', 'neutral', 'neutral', 'sad', 'angry',\n",
       "       'surprised', 'sad', 'surprised', 'fear', 'surprised', 'disgust',\n",
       "       'disgust', 'surprised', 'fear', 'disgust', 'neutral', 'disgust',\n",
       "       'surprised', 'happy', 'angry', 'fear', 'fear', 'surprised',\n",
       "       'angry', 'fear', 'angry', 'happy', 'happy', 'surprised',\n",
       "       'surprised', 'surprised', 'sad', 'neutral', 'sad', 'surprised',\n",
       "       'disgust', 'happy', 'happy', 'fear', 'fear', 'angry', 'angry',\n",
       "       'angry', 'angry', 'surprised', 'neutral', 'sad', 'disgust', 'sad',\n",
       "       'sad', 'angry', 'fear', 'sad', 'fear', 'calm', 'happy', 'angry',\n",
       "       'disgust', 'happy', 'sad', 'happy', 'angry', 'fear', 'angry',\n",
       "       'calm', 'surprised', 'fear', 'surprised', 'angry', 'angry',\n",
       "       'surprised', 'happy', 'angry', 'angry', 'disgust', 'sad', 'fear',\n",
       "       'disgust', 'fear', 'sad', 'angry', 'happy', 'happy', 'surprised',\n",
       "       'neutral', 'surprised', 'happy', 'calm', 'neutral', 'disgust',\n",
       "       'sad', 'disgust', 'neutral', 'calm', 'neutral', 'fear', 'happy',\n",
       "       'disgust', 'disgust', 'disgust', 'surprised', 'neutral',\n",
       "       'surprised', 'angry', 'surprised', 'sad', 'surprised', 'neutral',\n",
       "       'angry', 'angry', 'happy', 'sad', 'calm', 'sad', 'disgust',\n",
       "       'happy', 'fear', 'fear', 'angry', 'happy', 'disgust', 'calm',\n",
       "       'fear', 'neutral', 'happy', 'neutral', 'fear', 'angry', 'calm',\n",
       "       'fear', 'fear', 'fear', 'fear', 'neutral', 'disgust', 'sad', 'sad',\n",
       "       'angry', 'surprised', 'disgust', 'neutral', 'surprised', 'angry',\n",
       "       'happy', 'disgust', 'neutral', 'neutral', 'happy', 'fear',\n",
       "       'surprised', 'angry', 'fear', 'fear', 'fear', 'angry', 'sad',\n",
       "       'calm', 'happy', 'disgust', 'surprised', 'disgust', 'happy', 'sad',\n",
       "       'calm', 'disgust', 'neutral', 'sad', 'happy', 'calm', 'fear',\n",
       "       'happy', 'happy', 'fear', 'calm', 'disgust', 'fear', 'sad', 'sad',\n",
       "       'sad', 'sad', 'fear', 'disgust', 'neutral', 'disgust', 'sad',\n",
       "       'sad', 'disgust', 'surprised', 'angry', 'disgust', 'happy',\n",
       "       'neutral', 'disgust', 'surprised', 'disgust', 'disgust', 'fear',\n",
       "       'fear', 'sad', 'neutral', 'calm', 'disgust', 'angry', 'angry',\n",
       "       'disgust', 'angry', 'angry', 'surprised', 'neutral', 'neutral',\n",
       "       'surprised', 'sad', 'sad', 'surprised', 'surprised', 'happy',\n",
       "       'surprised', 'sad', 'happy', 'surprised', 'disgust', 'surprised',\n",
       "       'sad', 'neutral', 'happy', 'calm', 'happy', 'calm', 'happy',\n",
       "       'fear', 'angry', 'sad', 'happy', 'surprised', 'surprised',\n",
       "       'neutral', 'happy', 'surprised', 'happy', 'fear', 'surprised',\n",
       "       'surprised', 'happy', 'happy', 'angry', 'calm', 'surprised',\n",
       "       'fear', 'angry', 'fear', 'surprised', 'fear', 'calm', 'sad',\n",
       "       'happy', 'fear', 'neutral', 'happy', 'neutral', 'neutral', 'angry',\n",
       "       'fear', 'happy', 'surprised', 'angry', 'sad', 'disgust', 'neutral',\n",
       "       'surprised', 'disgust', 'disgust', 'disgust', 'sad', 'surprised',\n",
       "       'happy', 'disgust', 'angry', 'fear', 'fear', 'angry', 'sad',\n",
       "       'angry', 'fear', 'disgust', 'disgust', 'sad', 'fear', 'happy',\n",
       "       'angry', 'surprised', 'angry', 'angry', 'surprised', 'fear',\n",
       "       'neutral', 'fear', 'disgust', 'surprised', 'happy', 'sad',\n",
       "       'surprised', 'angry', 'angry', 'disgust', 'sad', 'fear', 'happy',\n",
       "       'angry', 'fear', 'neutral', 'happy', 'surprised', 'sad', 'fear',\n",
       "       'neutral', 'surprised', 'happy', 'surprised', 'happy', 'angry',\n",
       "       'angry', 'fear', 'fear', 'disgust', 'happy', 'happy', 'sad',\n",
       "       'disgust', 'angry', 'neutral', 'neutral', 'angry', 'disgust',\n",
       "       'happy', 'happy', 'disgust', 'angry', 'disgust', 'fear', 'disgust',\n",
       "       'neutral', 'fear', 'sad', 'happy', 'neutral', 'disgust', 'sad',\n",
       "       'surprised', 'angry', 'sad', 'disgust', 'disgust', 'neutral',\n",
       "       'fear', 'neutral', 'sad', 'calm', 'neutral', 'happy', 'angry',\n",
       "       'happy', 'disgust', 'sad', 'calm', 'surprised', 'happy', 'sad',\n",
       "       'fear', 'happy', 'happy', 'disgust', 'angry', 'disgust',\n",
       "       'surprised', 'sad', 'angry', 'neutral', 'happy', 'happy', 'sad',\n",
       "       'angry', 'angry', 'disgust', 'sad', 'surprised', 'calm', 'happy',\n",
       "       'sad', 'sad', 'calm', 'sad', 'happy', 'disgust', 'surprised',\n",
       "       'fear', 'angry', 'neutral', 'fear', 'angry', 'fear', 'fear',\n",
       "       'disgust', 'surprised', 'sad', 'disgust', 'disgust', 'sad', 'sad',\n",
       "       'fear', 'happy', 'neutral', 'surprised', 'fear', 'angry', 'fear',\n",
       "       'surprised', 'sad', 'disgust', 'fear', 'disgust', 'disgust',\n",
       "       'angry', 'happy', 'happy', 'neutral', 'angry', 'surprised', 'fear',\n",
       "       'happy', 'surprised', 'disgust', 'happy', 'surprised', 'angry',\n",
       "       'calm', 'angry', 'fear', 'sad', 'happy', 'disgust', 'neutral',\n",
       "       'surprised', 'happy', 'disgust', 'angry', 'neutral', 'sad',\n",
       "       'neutral', 'fear', 'neutral', 'sad', 'neutral', 'happy', 'neutral',\n",
       "       'angry', 'calm', 'fear', 'happy', 'disgust', 'sad', 'calm',\n",
       "       'happy', 'angry', 'happy', 'disgust', 'fear', 'disgust', 'disgust',\n",
       "       'sad', 'neutral', 'disgust', 'sad', 'disgust', 'neutral',\n",
       "       'neutral', 'surprised', 'happy', 'surprised', 'neutral', 'neutral',\n",
       "       'happy', 'sad', 'happy', 'sad', 'surprised', 'neutral', 'sad',\n",
       "       'surprised', 'calm', 'neutral', 'angry', 'disgust', 'angry',\n",
       "       'happy', 'neutral', 'angry', 'sad', 'fear', 'sad', 'angry',\n",
       "       'angry', 'angry', 'calm', 'angry', 'neutral', 'fear', 'fear',\n",
       "       'happy', 'fear', 'fear', 'disgust', 'angry', 'neutral', 'sad',\n",
       "       'neutral', 'calm', 'disgust', 'fear', 'calm', 'angry', 'neutral',\n",
       "       'angry', 'neutral', 'sad', 'surprised', 'sad', 'happy', 'neutral',\n",
       "       'happy', 'sad', 'sad', 'fear', 'happy', 'fear', 'sad', 'surprised',\n",
       "       'fear', 'happy', 'neutral', 'neutral', 'fear', 'disgust',\n",
       "       'surprised', 'sad', 'fear', 'sad', 'sad', 'fear', 'neutral',\n",
       "       'neutral', 'happy', 'surprised', 'sad', 'sad', 'neutral', 'fear',\n",
       "       'calm', 'neutral', 'sad', 'fear', 'neutral', 'angry', 'angry',\n",
       "       'angry', 'happy', 'fear', 'sad', 'neutral', 'happy', 'happy',\n",
       "       'disgust', 'sad', 'fear', 'surprised', 'happy', 'happy',\n",
       "       'surprised', 'angry', 'sad', 'surprised', 'surprised', 'surprised',\n",
       "       'angry', 'surprised', 'sad', 'angry', 'calm', 'neutral', 'disgust',\n",
       "       'angry', 'happy', 'angry', 'angry', 'sad', 'neutral', 'angry',\n",
       "       'angry', 'happy', 'happy', 'disgust', 'happy', 'happy', 'sad',\n",
       "       'happy', 'disgust', 'angry', 'disgust', 'angry', 'happy',\n",
       "       'surprised', 'happy', 'happy', 'happy', 'surprised', 'fear',\n",
       "       'angry', 'neutral', 'happy', 'fear', 'neutral', 'happy', 'happy',\n",
       "       'surprised', 'sad', 'neutral', 'angry', 'sad', 'disgust', 'happy',\n",
       "       'fear', 'angry', 'fear', 'sad', 'angry', 'surprised', 'angry',\n",
       "       'angry', 'disgust', 'neutral', 'happy', 'angry', 'happy', 'angry',\n",
       "       'fear', 'surprised', 'angry', 'angry', 'angry', 'sad', 'happy',\n",
       "       'sad', 'neutral', 'disgust', 'fear', 'disgust', 'happy',\n",
       "       'surprised', 'fear', 'happy', 'disgust', 'fear', 'sad', 'neutral',\n",
       "       'happy', 'neutral', 'disgust', 'sad', 'calm', 'calm', 'neutral',\n",
       "       'angry', 'sad', 'fear', 'disgust', 'neutral', 'disgust',\n",
       "       'surprised', 'calm', 'neutral', 'neutral', 'disgust', 'fear',\n",
       "       'angry', 'sad', 'angry', 'happy', 'disgust', 'neutral',\n",
       "       'surprised', 'disgust', 'sad', 'fear', 'neutral', 'disgust',\n",
       "       'disgust', 'neutral', 'fear', 'surprised', 'happy', 'sad', 'sad',\n",
       "       'surprised', 'angry', 'angry', 'angry', 'disgust', 'happy',\n",
       "       'happy', 'sad', 'sad', 'happy', 'fear', 'happy', 'sad', 'neutral',\n",
       "       'happy', 'disgust', 'fear', 'angry', 'surprised', 'happy', 'sad',\n",
       "       'disgust', 'surprised', 'surprised', 'sad', 'neutral', 'happy',\n",
       "       'calm', 'surprised', 'neutral', 'disgust', 'angry', 'surprised',\n",
       "       'sad', 'neutral', 'fear', 'disgust', 'fear', 'happy', 'angry',\n",
       "       'happy', 'calm', 'calm', 'sad', 'disgust', 'fear', 'fear', 'calm',\n",
       "       'surprised', 'sad', 'fear', 'surprised', 'disgust', 'angry',\n",
       "       'neutral', 'happy', 'fear', 'neutral', 'sad', 'fear', 'fear',\n",
       "       'fear', 'happy', 'happy', 'surprised', 'angry', 'surprised',\n",
       "       'fear', 'happy', 'disgust', 'disgust', 'sad', 'sad', 'sad',\n",
       "       'angry', 'sad', 'happy', 'sad', 'sad', 'happy', 'happy', 'fear',\n",
       "       'happy', 'surprised', 'calm', 'calm', 'disgust', 'neutral', 'fear',\n",
       "       'fear', 'surprised', 'neutral', 'surprised', 'angry', 'sad',\n",
       "       'fear', 'calm', 'happy', 'surprised', 'disgust', 'neutral',\n",
       "       'neutral', 'sad', 'angry', 'fear', 'happy', 'fear', 'neutral',\n",
       "       'fear', 'surprised', 'fear', 'angry', 'fear', 'sad', 'happy',\n",
       "       'neutral', 'happy', 'disgust', 'angry', 'happy', 'fear', 'happy',\n",
       "       'surprised', 'angry', 'fear', 'angry', 'neutral', 'angry', 'happy',\n",
       "       'disgust', 'angry', 'fear', 'surprised', 'angry', 'disgust',\n",
       "       'fear', 'sad', 'fear', 'surprised', 'disgust', 'angry', 'angry',\n",
       "       'fear', 'fear', 'disgust', 'happy'], dtype=object)"
      ]
     },
     "execution_count": 18,
     "metadata": {},
     "output_type": "execute_result"
    }
   ],
   "source": [
    "Y_test"
   ]
  },
  {
   "cell_type": "markdown",
   "metadata": {},
   "source": [
    "#### It is the time to train our SVM on the training data. Scikit-Learn contains the svm library, which contains built-in classes for different SVM algorithms. Since we are going to perform a classification task, we will use the support vector classifier class, which is written as SVC in the Scikit-Learn's svm library. We have set the kernel to linear."
   ]
  },
  {
   "cell_type": "code",
   "execution_count": 21,
   "metadata": {},
   "outputs": [],
   "source": [
    "from sklearn.svm import SVC\n",
    "svcclassifier=SVC(kernel='linear',C=1,gamma='auto')"
   ]
  },
  {
   "cell_type": "markdown",
   "metadata": {},
   "source": [
    "#### The fit method of SVC class is called to train the algorithm on the training data, which is passed as a parameter to the fit method. Execute the following code to train the algorithm:"
   ]
  },
  {
   "cell_type": "code",
   "execution_count": 22,
   "metadata": {},
   "outputs": [
    {
     "name": "stdout",
     "output_type": "stream",
     "text": [
      "Trained model in 28.415973901748657 ms \n"
     ]
    }
   ],
   "source": [
    "import time\n",
    "starting_time = time.time()\n",
    "svcclassifier.fit(X_train, Y_train)\n",
    "print(\"Trained model in %s ms \" % str(time.time() - starting_time))"
   ]
  },
  {
   "cell_type": "markdown",
   "metadata": {},
   "source": [
    "#### To make predictions, the predict method of the SVC class is used."
   ]
  },
  {
   "cell_type": "code",
   "execution_count": 23,
   "metadata": {},
   "outputs": [],
   "source": [
    "Y_pred = svcclassifier.predict(X_test)"
   ]
  },
  {
   "cell_type": "markdown",
   "metadata": {},
   "source": [
    "#### Confusion matrix, precision, recall, and F1 measures are the most commonly used metrics for classification tasks. Scikit-Learn's metrics library contains the classification_report and confusion_matrix methods, which can be readily used to find out the values for these important metrics. We have used the following code for finding these metrics:"
   ]
  },
  {
   "cell_type": "code",
   "execution_count": 24,
   "metadata": {
    "scrolled": true
   },
   "outputs": [
    {
     "name": "stdout",
     "output_type": "stream",
     "text": [
      "              precision    recall  f1-score   support\n",
      "\n",
      "       angry       0.69      0.84      0.76       123\n",
      "        calm       0.56      0.69      0.62        39\n",
      "     disgust       0.68      0.76      0.72       110\n",
      "        fear       0.78      0.72      0.75       123\n",
      "       happy       0.74      0.67      0.70       133\n",
      "     neutral       0.86      0.86      0.86       100\n",
      "         sad       0.78      0.69      0.73       117\n",
      "   surprised       0.72      0.62      0.67       103\n",
      "\n",
      "    accuracy                           0.73       848\n",
      "   macro avg       0.73      0.73      0.73       848\n",
      "weighted avg       0.74      0.73      0.73       848\n",
      "\n"
     ]
    }
   ],
   "source": [
    "from sklearn.metrics import classification_report, confusion_matrix\n",
    "import seaborn as sn\n",
    "\n",
    "print(classification_report(Y_test,Y_pred))"
   ]
  },
  {
   "cell_type": "code",
   "execution_count": 25,
   "metadata": {},
   "outputs": [
    {
     "name": "stdout",
     "output_type": "stream",
     "text": [
      "[[103   0   6   5   4   0   1   4]\n",
      " [  0  27   4   0   0   3   5   0]\n",
      " [  8   6  84   0   2   1   1   8]\n",
      " [  9   0   4  89   8   0   9   4]\n",
      " [ 14   1  10   8  89   1   3   7]\n",
      " [  1   3   2   2   2  86   2   2]\n",
      " [  3   8   5   4   8   8  81   0]\n",
      " [ 11   3   9   6   7   1   2  64]]\n"
     ]
    }
   ],
   "source": [
    "from sklearn.metrics import confusion_matrix\n",
    "print(confusion_matrix(Y_test,Y_pred))"
   ]
  },
  {
   "cell_type": "code",
   "execution_count": 26,
   "metadata": {},
   "outputs": [
    {
     "data": {
      "image/png": "[encoded data removed]",
      "text/plain": [
       "<Figure size 432x288 with 2 Axes>"
      ]
     },
     "metadata": {
      "needs_background": "light"
     },
     "output_type": "display_data"
    }
   ],
   "source": [
    "cm = confusion_matrix(Y_test,Y_pred)\n",
    "df_cm = pd.DataFrame(cm)\n",
    "sn.heatmap(df_cm, annot=True, fmt='')\n",
    "plt.show()"
   ]
  },
  {
   "cell_type": "code",
   "execution_count": 27,
   "metadata": {},
   "outputs": [
    {
     "name": "stdout",
     "output_type": "stream",
     "text": [
      "----accuracy score 73.46698113207547 ----\n"
     ]
    }
   ],
   "source": [
    "acc = svcclassifier.score(X_test,Y_test)*100\n",
    "print(\"----accuracy score %s ----\" % acc)"
   ]
  },
  {
   "cell_type": "markdown",
   "metadata": {},
   "source": [
    "#### Now by calculating the training accuracy and comparing with testing accuracy, we can check for overfitting of data"
   ]
  },
  {
   "cell_type": "code",
   "execution_count": 28,
   "metadata": {},
   "outputs": [
    {
     "name": "stdout",
     "output_type": "stream",
     "text": [
      "----train accuracy score 88.85613207547169 ----\n",
      "----test accuracy score 73.46698113207547 ----\n"
     ]
    }
   ],
   "source": [
    "train_acc = float(svcclassifier.score(X_train, Y_train)*100)\n",
    "print(\"----train accuracy score %s ----\" % train_acc)\n",
    "\n",
    "test_acc = float(svcclassifier.score(X_test, Y_test)*100)\n",
    "print(\"----test accuracy score %s ----\" % test_acc)"
   ]
  },
  {
   "cell_type": "markdown",
   "metadata": {},
   "source": [
    "## CROSS-VALIDATION\n",
    "  #### 5-fold cross validation of the dataset with the SVC classifier."
   ]
  },
  {
   "cell_type": "code",
   "execution_count": 29,
   "metadata": {},
   "outputs": [
    {
     "name": "stdout",
     "output_type": "stream",
     "text": [
      "[0.77712264 0.76061321 0.78773585 0.77948113 0.76768868]\n"
     ]
    }
   ],
   "source": [
    "from sklearn.model_selection import cross_val_score\n",
    "\n",
    "# no. of folds crossvalidation = 5\n",
    "cv_results = cross_val_score(svcclassifier, X, Y, cv = 5)\n",
    "print(cv_results)"
   ]
  },
  {
   "cell_type": "markdown",
   "metadata": {},
   "source": [
    "## SCALING\n",
    "   - When performing the linear SVM classification, it is often helpful to normalize the training data, for example by subtracting the mean and dividing by the standard deviation, and afterwards scale the test data with the mean and standard deviation of training data.\n",
    "## STANDARDIZATION(Z SCORE NORMALISATION)\n",
    "\n",
    "\n",
    "   - here all the features will be transformed in such a way that it'll have the properties of a standard normal distribution with mean=0 and sd=1"
   ]
  },
  {
   "cell_type": "code",
   "execution_count": 30,
   "metadata": {},
   "outputs": [
    {
     "name": "stdout",
     "output_type": "stream",
     "text": [
      "Accuracy with Scaling: 0.7806603773584906\n",
      "Accuracy without Scaling: 0.7924528301886793\n"
     ]
    }
   ],
   "source": [
    "from sklearn.model_selection import train_test_split\n",
    "from sklearn.preprocessing import StandardScaler #standardscaler it actually scales down a value considering mean=0 and SD=1\n",
    "from sklearn.pipeline import Pipeline #in order to write proper and cleaner code these pipelines are helpful\n",
    "from sklearn.svm import SVC\n",
    "\n",
    "\n",
    "#splitting dataset into train/ test sets\n",
    "X_train, X_test, Y_train, Y_test = train_test_split(X, Y, test_size = 0.20)\n",
    "\n",
    "# Setup the pipeline steps: steps\n",
    "steps = [('scaler', StandardScaler()), #list of tuples and in the tuple it has 2 values one is type of operation and second is technique\n",
    "        ('SVM', SVC())]\n",
    "#we have created a pipeline that scales the i/p using standard scaler before classifying using svm svc classifier\n",
    "        \n",
    "# Create the pipeline: pipeline\n",
    "pipeline = Pipeline(steps)\n",
    "\n",
    "# Fit the pipeline to the training set: svc_scaled\n",
    "svc_scaled = pipeline.fit(X_train, Y_train)\n",
    "\n",
    "# Instantiate and fit a classifier to the unscaled data\n",
    "svc_unscaled = SVC(kernel = 'linear').fit(X_train, Y_train)\n",
    "\n",
    "# Compute and print metrics\n",
    "print('Accuracy with Scaling: {}'.format(svc_scaled.score(X_test, Y_test)))\n",
    "print('Accuracy without Scaling: {}'.format(svc_unscaled.score(X_test, Y_test)))"
   ]
  },
  {
   "cell_type": "markdown",
   "metadata": {},
   "source": [
    "### Generalization check\n",
    "  - Checking for overfitting or underfitting by comparing the training and testing scores of the model (AFTER SCALING)\n",
    "  - overfitting (training accuracy more than testing accuracy)\n",
    "  - underfitiing (testing accuracy more than training accuracy)"
   ]
  },
  {
   "cell_type": "code",
   "execution_count": 31,
   "metadata": {},
   "outputs": [
    {
     "name": "stdout",
     "output_type": "stream",
     "text": [
      "----train accuracy score 82.45872641509435 ----\n",
      "----test accuracy score 78.06603773584906 ----\n"
     ]
    }
   ],
   "source": [
    "train_acc = float(svc_scaled.score(X_train, Y_train)*100)\n",
    "print(\"----train accuracy score %s ----\" % train_acc)\n",
    "\n",
    "test_acc = float(svc_scaled.score(X_test, Y_test)*100)\n",
    "print(\"----test accuracy score %s ----\" % test_acc)"
   ]
  },
  {
   "cell_type": "code",
   "execution_count": 32,
   "metadata": {},
   "outputs": [],
   "source": [
    "scaled_predictions = svc_scaled.predict(X_test)"
   ]
  },
  {
   "cell_type": "markdown",
   "metadata": {},
   "source": [
    "### CLASSIFICATION REPORTS AND CONFUSION MATRIX"
   ]
  },
  {
   "cell_type": "code",
   "execution_count": 33,
   "metadata": {},
   "outputs": [
    {
     "name": "stdout",
     "output_type": "stream",
     "text": [
      "              precision    recall  f1-score   support\n",
      "\n",
      "       angry       0.88      0.78      0.83       119\n",
      "        calm       0.36      0.88      0.51        34\n",
      "     disgust       0.63      0.83      0.72       113\n",
      "        fear       0.91      0.78      0.84       134\n",
      "       happy       0.86      0.70      0.77       120\n",
      "     neutral       1.00      0.77      0.87        94\n",
      "         sad       0.82      0.72      0.77       114\n",
      "   surprised       0.82      0.85      0.84       120\n",
      "\n",
      "    accuracy                           0.78       848\n",
      "   macro avg       0.78      0.79      0.77       848\n",
      "weighted avg       0.82      0.78      0.79       848\n",
      "\n",
      "----accuracy score 78.06603773584906 ----\n"
     ]
    },
    {
     "data": {
      "image/png": "[encoded data removed]",
      "text/plain": [
       "<Figure size 432x288 with 2 Axes>"
      ]
     },
     "metadata": {
      "needs_background": "light"
     },
     "output_type": "display_data"
    }
   ],
   "source": [
    "from sklearn.metrics import classification_report, confusion_matrix,accuracy_score\n",
    "import seaborn as sn\n",
    "print(classification_report(Y_test,scaled_predictions))\n",
    "acc = float(accuracy_score(Y_test,scaled_predictions))*100\n",
    "print(\"----accuracy score %s ----\" % acc)\n",
    "cm = confusion_matrix(Y_test,scaled_predictions)\n",
    "df_cm = pd.DataFrame(cm)\n",
    "sn.heatmap(df_cm, annot=True, fmt='')\n",
    "plt.show()"
   ]
  },
  {
   "cell_type": "code",
   "execution_count": 30,
   "metadata": {},
   "outputs": [
    {
     "name": "stdout",
     "output_type": "stream",
     "text": [
      "[[ 98   1   6   1   3   0   0   8]\n",
      " [  0  28   2   0   0   0   2   0]\n",
      " [  0   4  99   0   2   0   0   8]\n",
      " [  7   6   5  91   1   0   3   5]\n",
      " [  4   5   6   7  92   0   2  11]\n",
      " [  0   9   5   0   0  78   2   1]\n",
      " [  1  19   5   5   1   0  95   2]\n",
      " [  1   3   4   0   1   0   3 106]]\n"
     ]
    }
   ],
   "source": [
    "from sklearn.metrics import confusion_matrix\n",
    "print(confusion_matrix(Y_test,scaled_predictions))"
   ]
  },
  {
   "cell_type": "markdown",
   "metadata": {},
   "source": [
    "### Cross Validation"
   ]
  },
  {
   "cell_type": "code",
   "execution_count": 31,
   "metadata": {},
   "outputs": [
    {
     "name": "stdout",
     "output_type": "stream",
     "text": [
      "[0.80778302 0.78537736 0.78419811 0.77712264 0.78419811]\n"
     ]
    }
   ],
   "source": [
    "from sklearn.model_selection import cross_val_score\n",
    "\n",
    "# no. of folds cv = 5\n",
    "cv_results = cross_val_score(svc_scaled, X, Y, cv = 5)\n",
    "print(cv_results)"
   ]
  },
  {
   "cell_type": "code",
   "execution_count": null,
   "metadata": {},
   "outputs": [],
   "source": []
  }
 ],
 "metadata": {
  "kernelspec": {
   "display_name": "Python 3",
   "language": "python",
   "name": "python3"
  },
  "language_info": {
   "codemirror_mode": {
    "name": "ipython",
    "version": 3
   },
   "file_extension": ".py",
   "mimetype": "text/x-python",
   "name": "python",
   "nbconvert_exporter": "python",
   "pygments_lexer": "ipython3",
   "version": "3.8.5"
  }
 },
 "nbformat": 4,
 "nbformat_minor": 4
}
