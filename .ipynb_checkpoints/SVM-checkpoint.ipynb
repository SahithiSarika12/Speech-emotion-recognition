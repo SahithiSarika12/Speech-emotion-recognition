{
 "cells": [
  {
   "cell_type": "code",
   "execution_count": 1,
   "metadata": {},
   "outputs": [],
   "source": [
    "import pandas as pd\n",
    "import numpy as np"
   ]
  },
  {
   "cell_type": "code",
   "execution_count": null,
   "metadata": {},
   "outputs": [],
   "source": [
    "import time\n",
    "\n",
    "starting_time = time.time()\n",
    "dataframe = pd.read_csv(r\"C:\\Users\\Sahithi Sarika\\OneDrive\\Desktop\\SER\\RAVDESS,TESS_mfcc_chroma_mel.csv\")\n",
    "print(\"data loaded in \" + str(time.time()-starting_time) + \" ms\")\n",
    "\n",
    "print(dataframe.head())"
   ]
  },
  {
   "cell_type": "code",
   "execution_count": 58,
   "metadata": {
    "collapsed": true
   },
   "outputs": [
    {
     "ename": "KeyError",
     "evalue": "\"['Unnamed:0'] not found in axis\"",
     "output_type": "error",
     "traceback": [
      "\u001b[1;31m---------------------------------------------------------------------------\u001b[0m",
      "\u001b[1;31mKeyError\u001b[0m                                  Traceback (most recent call last)",
      "\u001b[1;32m<ipython-input-58-01d0f95deb5e>\u001b[0m in \u001b[0;36m<module>\u001b[1;34m\u001b[0m\n\u001b[0;32m      1\u001b[0m \u001b[1;31m# dropping the column Unnamed: 0 to removed shuffled index\u001b[0m\u001b[1;33m\u001b[0m\u001b[1;33m\u001b[0m\u001b[1;33m\u001b[0m\u001b[0m\n\u001b[1;32m----> 2\u001b[1;33m \u001b[0mdataframe\u001b[0m \u001b[1;33m=\u001b[0m \u001b[0mdataframe\u001b[0m\u001b[1;33m.\u001b[0m\u001b[0mdrop\u001b[0m\u001b[1;33m(\u001b[0m\u001b[1;33m[\u001b[0m\u001b[1;34m'Unnamed:0'\u001b[0m\u001b[1;33m]\u001b[0m\u001b[1;33m,\u001b[0m\u001b[0maxis\u001b[0m\u001b[1;33m=\u001b[0m\u001b[1;36m1\u001b[0m\u001b[1;33m,\u001b[0m\u001b[0minplace\u001b[0m\u001b[1;33m=\u001b[0m\u001b[1;32mTrue\u001b[0m\u001b[1;33m)\u001b[0m\u001b[1;33m\u001b[0m\u001b[1;33m\u001b[0m\u001b[0m\n\u001b[0m",
      "\u001b[1;32mC:\\anaconda\\lib\\site-packages\\pandas\\core\\frame.py\u001b[0m in \u001b[0;36mdrop\u001b[1;34m(self, labels, axis, index, columns, level, inplace, errors)\u001b[0m\n\u001b[0;32m   4161\u001b[0m                 \u001b[0mweight\u001b[0m  \u001b[1;36m1.0\u001b[0m     \u001b[1;36m0.8\u001b[0m\u001b[1;33m\u001b[0m\u001b[1;33m\u001b[0m\u001b[0m\n\u001b[0;32m   4162\u001b[0m         \"\"\"\n\u001b[1;32m-> 4163\u001b[1;33m         return super().drop(\n\u001b[0m\u001b[0;32m   4164\u001b[0m             \u001b[0mlabels\u001b[0m\u001b[1;33m=\u001b[0m\u001b[0mlabels\u001b[0m\u001b[1;33m,\u001b[0m\u001b[1;33m\u001b[0m\u001b[1;33m\u001b[0m\u001b[0m\n\u001b[0;32m   4165\u001b[0m             \u001b[0maxis\u001b[0m\u001b[1;33m=\u001b[0m\u001b[0maxis\u001b[0m\u001b[1;33m,\u001b[0m\u001b[1;33m\u001b[0m\u001b[1;33m\u001b[0m\u001b[0m\n",
      "\u001b[1;32mC:\\anaconda\\lib\\site-packages\\pandas\\core\\generic.py\u001b[0m in \u001b[0;36mdrop\u001b[1;34m(self, labels, axis, index, columns, level, inplace, errors)\u001b[0m\n\u001b[0;32m   3885\u001b[0m         \u001b[1;32mfor\u001b[0m \u001b[0maxis\u001b[0m\u001b[1;33m,\u001b[0m \u001b[0mlabels\u001b[0m \u001b[1;32min\u001b[0m \u001b[0maxes\u001b[0m\u001b[1;33m.\u001b[0m\u001b[0mitems\u001b[0m\u001b[1;33m(\u001b[0m\u001b[1;33m)\u001b[0m\u001b[1;33m:\u001b[0m\u001b[1;33m\u001b[0m\u001b[1;33m\u001b[0m\u001b[0m\n\u001b[0;32m   3886\u001b[0m             \u001b[1;32mif\u001b[0m \u001b[0mlabels\u001b[0m \u001b[1;32mis\u001b[0m \u001b[1;32mnot\u001b[0m \u001b[1;32mNone\u001b[0m\u001b[1;33m:\u001b[0m\u001b[1;33m\u001b[0m\u001b[1;33m\u001b[0m\u001b[0m\n\u001b[1;32m-> 3887\u001b[1;33m                 \u001b[0mobj\u001b[0m \u001b[1;33m=\u001b[0m \u001b[0mobj\u001b[0m\u001b[1;33m.\u001b[0m\u001b[0m_drop_axis\u001b[0m\u001b[1;33m(\u001b[0m\u001b[0mlabels\u001b[0m\u001b[1;33m,\u001b[0m \u001b[0maxis\u001b[0m\u001b[1;33m,\u001b[0m \u001b[0mlevel\u001b[0m\u001b[1;33m=\u001b[0m\u001b[0mlevel\u001b[0m\u001b[1;33m,\u001b[0m \u001b[0merrors\u001b[0m\u001b[1;33m=\u001b[0m\u001b[0merrors\u001b[0m\u001b[1;33m)\u001b[0m\u001b[1;33m\u001b[0m\u001b[1;33m\u001b[0m\u001b[0m\n\u001b[0m\u001b[0;32m   3888\u001b[0m \u001b[1;33m\u001b[0m\u001b[0m\n\u001b[0;32m   3889\u001b[0m         \u001b[1;32mif\u001b[0m \u001b[0minplace\u001b[0m\u001b[1;33m:\u001b[0m\u001b[1;33m\u001b[0m\u001b[1;33m\u001b[0m\u001b[0m\n",
      "\u001b[1;32mC:\\anaconda\\lib\\site-packages\\pandas\\core\\generic.py\u001b[0m in \u001b[0;36m_drop_axis\u001b[1;34m(self, labels, axis, level, errors)\u001b[0m\n\u001b[0;32m   3919\u001b[0m                 \u001b[0mnew_axis\u001b[0m \u001b[1;33m=\u001b[0m \u001b[0maxis\u001b[0m\u001b[1;33m.\u001b[0m\u001b[0mdrop\u001b[0m\u001b[1;33m(\u001b[0m\u001b[0mlabels\u001b[0m\u001b[1;33m,\u001b[0m \u001b[0mlevel\u001b[0m\u001b[1;33m=\u001b[0m\u001b[0mlevel\u001b[0m\u001b[1;33m,\u001b[0m \u001b[0merrors\u001b[0m\u001b[1;33m=\u001b[0m\u001b[0merrors\u001b[0m\u001b[1;33m)\u001b[0m\u001b[1;33m\u001b[0m\u001b[1;33m\u001b[0m\u001b[0m\n\u001b[0;32m   3920\u001b[0m             \u001b[1;32melse\u001b[0m\u001b[1;33m:\u001b[0m\u001b[1;33m\u001b[0m\u001b[1;33m\u001b[0m\u001b[0m\n\u001b[1;32m-> 3921\u001b[1;33m                 \u001b[0mnew_axis\u001b[0m \u001b[1;33m=\u001b[0m \u001b[0maxis\u001b[0m\u001b[1;33m.\u001b[0m\u001b[0mdrop\u001b[0m\u001b[1;33m(\u001b[0m\u001b[0mlabels\u001b[0m\u001b[1;33m,\u001b[0m \u001b[0merrors\u001b[0m\u001b[1;33m=\u001b[0m\u001b[0merrors\u001b[0m\u001b[1;33m)\u001b[0m\u001b[1;33m\u001b[0m\u001b[1;33m\u001b[0m\u001b[0m\n\u001b[0m\u001b[0;32m   3922\u001b[0m             \u001b[0mresult\u001b[0m \u001b[1;33m=\u001b[0m \u001b[0mself\u001b[0m\u001b[1;33m.\u001b[0m\u001b[0mreindex\u001b[0m\u001b[1;33m(\u001b[0m\u001b[1;33m**\u001b[0m\u001b[1;33m{\u001b[0m\u001b[0maxis_name\u001b[0m\u001b[1;33m:\u001b[0m \u001b[0mnew_axis\u001b[0m\u001b[1;33m}\u001b[0m\u001b[1;33m)\u001b[0m\u001b[1;33m\u001b[0m\u001b[1;33m\u001b[0m\u001b[0m\n\u001b[0;32m   3923\u001b[0m \u001b[1;33m\u001b[0m\u001b[0m\n",
      "\u001b[1;32mC:\\anaconda\\lib\\site-packages\\pandas\\core\\indexes\\base.py\u001b[0m in \u001b[0;36mdrop\u001b[1;34m(self, labels, errors)\u001b[0m\n\u001b[0;32m   5280\u001b[0m         \u001b[1;32mif\u001b[0m \u001b[0mmask\u001b[0m\u001b[1;33m.\u001b[0m\u001b[0many\u001b[0m\u001b[1;33m(\u001b[0m\u001b[1;33m)\u001b[0m\u001b[1;33m:\u001b[0m\u001b[1;33m\u001b[0m\u001b[1;33m\u001b[0m\u001b[0m\n\u001b[0;32m   5281\u001b[0m             \u001b[1;32mif\u001b[0m \u001b[0merrors\u001b[0m \u001b[1;33m!=\u001b[0m \u001b[1;34m\"ignore\"\u001b[0m\u001b[1;33m:\u001b[0m\u001b[1;33m\u001b[0m\u001b[1;33m\u001b[0m\u001b[0m\n\u001b[1;32m-> 5282\u001b[1;33m                 \u001b[1;32mraise\u001b[0m \u001b[0mKeyError\u001b[0m\u001b[1;33m(\u001b[0m\u001b[1;34mf\"{labels[mask]} not found in axis\"\u001b[0m\u001b[1;33m)\u001b[0m\u001b[1;33m\u001b[0m\u001b[1;33m\u001b[0m\u001b[0m\n\u001b[0m\u001b[0;32m   5283\u001b[0m             \u001b[0mindexer\u001b[0m \u001b[1;33m=\u001b[0m \u001b[0mindexer\u001b[0m\u001b[1;33m[\u001b[0m\u001b[1;33m~\u001b[0m\u001b[0mmask\u001b[0m\u001b[1;33m]\u001b[0m\u001b[1;33m\u001b[0m\u001b[1;33m\u001b[0m\u001b[0m\n\u001b[0;32m   5284\u001b[0m         \u001b[1;32mreturn\u001b[0m \u001b[0mself\u001b[0m\u001b[1;33m.\u001b[0m\u001b[0mdelete\u001b[0m\u001b[1;33m(\u001b[0m\u001b[0mindexer\u001b[0m\u001b[1;33m)\u001b[0m\u001b[1;33m\u001b[0m\u001b[1;33m\u001b[0m\u001b[0m\n",
      "\u001b[1;31mKeyError\u001b[0m: \"['Unnamed:0'] not found in axis\""
     ]
    }
   ],
   "source": [
    "# dropping the column Unnamed: 0 to removed shuffled index\n",
    "dataframe = dataframe.drop(['Unnamed:0'],axis=1,inplace=True)"
   ]
  },
  {
   "cell_type": "code",
   "execution_count": null,
   "metadata": {},
   "outputs": [],
   "source": [
    "dataframe.shape"
   ]
  },
  {
   "cell_type": "code",
   "execution_count": 60,
   "metadata": {},
   "outputs": [
    {
     "data": {
      "text/plain": [
       "Index(['Unnamed: 0', '0', '1', '2', '3', '4', '5', '6', '7', '8',\n",
       "       ...\n",
       "       '171', '172', '173', '174', '175', '176', '177', '178', '179',\n",
       "       'Emotion'],\n",
       "      dtype='object', length=182)"
      ]
     },
     "execution_count": 60,
     "metadata": {},
     "output_type": "execute_result"
    }
   ],
   "source": [
    "dataframe.columns"
   ]
  },
  {
   "cell_type": "code",
   "execution_count": 61,
   "metadata": {},
   "outputs": [
    {
     "data": {
      "text/html": [
       "<div>\n",
       "<style scoped>\n",
       "    .dataframe tbody tr th:only-of-type {\n",
       "        vertical-align: middle;\n",
       "    }\n",
       "\n",
       "    .dataframe tbody tr th {\n",
       "        vertical-align: top;\n",
       "    }\n",
       "\n",
       "    .dataframe thead th {\n",
       "        text-align: right;\n",
       "    }\n",
       "</style>\n",
       "<table border=\"1\" class=\"dataframe\">\n",
       "  <thead>\n",
       "    <tr style=\"text-align: right;\">\n",
       "      <th></th>\n",
       "      <th>Unnamed: 0</th>\n",
       "      <th>0</th>\n",
       "      <th>1</th>\n",
       "      <th>2</th>\n",
       "      <th>3</th>\n",
       "      <th>4</th>\n",
       "      <th>5</th>\n",
       "      <th>6</th>\n",
       "      <th>7</th>\n",
       "      <th>8</th>\n",
       "      <th>...</th>\n",
       "      <th>171</th>\n",
       "      <th>172</th>\n",
       "      <th>173</th>\n",
       "      <th>174</th>\n",
       "      <th>175</th>\n",
       "      <th>176</th>\n",
       "      <th>177</th>\n",
       "      <th>178</th>\n",
       "      <th>179</th>\n",
       "      <th>Emotion</th>\n",
       "    </tr>\n",
       "  </thead>\n",
       "  <tbody>\n",
       "    <tr>\n",
       "      <th>0</th>\n",
       "      <td>1737</td>\n",
       "      <td>-465.585449</td>\n",
       "      <td>83.555794</td>\n",
       "      <td>7.898191</td>\n",
       "      <td>1.845573</td>\n",
       "      <td>9.589481</td>\n",
       "      <td>16.620991</td>\n",
       "      <td>-18.170990</td>\n",
       "      <td>8.031609</td>\n",
       "      <td>-16.714731</td>\n",
       "      <td>...</td>\n",
       "      <td>1.614745e-04</td>\n",
       "      <td>1.489774e-04</td>\n",
       "      <td>1.082331e-04</td>\n",
       "      <td>7.832934e-05</td>\n",
       "      <td>3.076414e-05</td>\n",
       "      <td>9.439812e-06</td>\n",
       "      <td>2.091660e-06</td>\n",
       "      <td>2.957747e-07</td>\n",
       "      <td>2.364530e-08</td>\n",
       "      <td>disgust</td>\n",
       "    </tr>\n",
       "    <tr>\n",
       "      <th>1</th>\n",
       "      <td>358</td>\n",
       "      <td>-608.932800</td>\n",
       "      <td>56.456070</td>\n",
       "      <td>-45.398525</td>\n",
       "      <td>17.257446</td>\n",
       "      <td>-18.685335</td>\n",
       "      <td>-6.954247</td>\n",
       "      <td>-19.358278</td>\n",
       "      <td>-15.089822</td>\n",
       "      <td>-4.008198</td>\n",
       "      <td>...</td>\n",
       "      <td>9.919672e-12</td>\n",
       "      <td>9.638627e-12</td>\n",
       "      <td>3.004074e-11</td>\n",
       "      <td>2.009821e-11</td>\n",
       "      <td>1.407661e-11</td>\n",
       "      <td>1.301384e-11</td>\n",
       "      <td>1.577758e-11</td>\n",
       "      <td>2.411851e-11</td>\n",
       "      <td>2.308979e-11</td>\n",
       "      <td>surprised</td>\n",
       "    </tr>\n",
       "    <tr>\n",
       "      <th>2</th>\n",
       "      <td>277</td>\n",
       "      <td>-668.708923</td>\n",
       "      <td>66.747795</td>\n",
       "      <td>-11.002393</td>\n",
       "      <td>24.854563</td>\n",
       "      <td>-3.741007</td>\n",
       "      <td>2.820232</td>\n",
       "      <td>-6.700864</td>\n",
       "      <td>-2.206323</td>\n",
       "      <td>-1.440481</td>\n",
       "      <td>...</td>\n",
       "      <td>3.368504e-12</td>\n",
       "      <td>3.332721e-12</td>\n",
       "      <td>7.175953e-12</td>\n",
       "      <td>4.500260e-12</td>\n",
       "      <td>5.371889e-12</td>\n",
       "      <td>3.719719e-12</td>\n",
       "      <td>5.621874e-12</td>\n",
       "      <td>5.378570e-12</td>\n",
       "      <td>5.130835e-12</td>\n",
       "      <td>fear</td>\n",
       "    </tr>\n",
       "    <tr>\n",
       "      <th>3</th>\n",
       "      <td>2757</td>\n",
       "      <td>-545.600830</td>\n",
       "      <td>85.160782</td>\n",
       "      <td>26.692595</td>\n",
       "      <td>29.094379</td>\n",
       "      <td>15.003597</td>\n",
       "      <td>12.542657</td>\n",
       "      <td>-19.132849</td>\n",
       "      <td>-3.636678</td>\n",
       "      <td>-15.840714</td>\n",
       "      <td>...</td>\n",
       "      <td>5.446315e-05</td>\n",
       "      <td>1.059334e-05</td>\n",
       "      <td>5.718410e-06</td>\n",
       "      <td>3.124374e-06</td>\n",
       "      <td>2.469191e-06</td>\n",
       "      <td>1.688812e-06</td>\n",
       "      <td>3.057819e-07</td>\n",
       "      <td>5.100989e-08</td>\n",
       "      <td>4.805832e-09</td>\n",
       "      <td>sad</td>\n",
       "    </tr>\n",
       "    <tr>\n",
       "      <th>4</th>\n",
       "      <td>3432</td>\n",
       "      <td>-324.575592</td>\n",
       "      <td>43.163139</td>\n",
       "      <td>-24.836311</td>\n",
       "      <td>23.449015</td>\n",
       "      <td>-16.303528</td>\n",
       "      <td>-1.034032</td>\n",
       "      <td>-9.414081</td>\n",
       "      <td>3.486397</td>\n",
       "      <td>-15.959109</td>\n",
       "      <td>...</td>\n",
       "      <td>5.275351e-03</td>\n",
       "      <td>6.099407e-03</td>\n",
       "      <td>4.937004e-03</td>\n",
       "      <td>4.090378e-03</td>\n",
       "      <td>7.883835e-04</td>\n",
       "      <td>2.051225e-04</td>\n",
       "      <td>8.221862e-05</td>\n",
       "      <td>3.210119e-05</td>\n",
       "      <td>3.558323e-06</td>\n",
       "      <td>fear</td>\n",
       "    </tr>\n",
       "    <tr>\n",
       "      <th>...</th>\n",
       "      <td>...</td>\n",
       "      <td>...</td>\n",
       "      <td>...</td>\n",
       "      <td>...</td>\n",
       "      <td>...</td>\n",
       "      <td>...</td>\n",
       "      <td>...</td>\n",
       "      <td>...</td>\n",
       "      <td>...</td>\n",
       "      <td>...</td>\n",
       "      <td>...</td>\n",
       "      <td>...</td>\n",
       "      <td>...</td>\n",
       "      <td>...</td>\n",
       "      <td>...</td>\n",
       "      <td>...</td>\n",
       "      <td>...</td>\n",
       "      <td>...</td>\n",
       "      <td>...</td>\n",
       "      <td>...</td>\n",
       "      <td>...</td>\n",
       "    </tr>\n",
       "    <tr>\n",
       "      <th>4235</th>\n",
       "      <td>2949</td>\n",
       "      <td>-339.038940</td>\n",
       "      <td>42.536827</td>\n",
       "      <td>-24.625620</td>\n",
       "      <td>35.382183</td>\n",
       "      <td>-22.637024</td>\n",
       "      <td>-8.269244</td>\n",
       "      <td>-2.558137</td>\n",
       "      <td>-19.996466</td>\n",
       "      <td>-15.020565</td>\n",
       "      <td>...</td>\n",
       "      <td>3.191106e-02</td>\n",
       "      <td>2.830726e-02</td>\n",
       "      <td>1.731047e-02</td>\n",
       "      <td>3.925761e-03</td>\n",
       "      <td>3.666839e-03</td>\n",
       "      <td>1.765839e-03</td>\n",
       "      <td>4.299184e-04</td>\n",
       "      <td>9.000090e-05</td>\n",
       "      <td>5.620218e-06</td>\n",
       "      <td>angry</td>\n",
       "    </tr>\n",
       "    <tr>\n",
       "      <th>4236</th>\n",
       "      <td>1580</td>\n",
       "      <td>-421.504242</td>\n",
       "      <td>64.692368</td>\n",
       "      <td>-4.980181</td>\n",
       "      <td>-4.194294</td>\n",
       "      <td>-18.406929</td>\n",
       "      <td>11.884348</td>\n",
       "      <td>-16.636267</td>\n",
       "      <td>-7.729247</td>\n",
       "      <td>-23.249331</td>\n",
       "      <td>...</td>\n",
       "      <td>2.040632e-04</td>\n",
       "      <td>1.774058e-04</td>\n",
       "      <td>1.180428e-04</td>\n",
       "      <td>4.920479e-05</td>\n",
       "      <td>1.540893e-05</td>\n",
       "      <td>7.628550e-06</td>\n",
       "      <td>2.600157e-06</td>\n",
       "      <td>5.838905e-07</td>\n",
       "      <td>7.337579e-08</td>\n",
       "      <td>angry</td>\n",
       "    </tr>\n",
       "    <tr>\n",
       "      <th>4237</th>\n",
       "      <td>209</td>\n",
       "      <td>-549.666748</td>\n",
       "      <td>44.521404</td>\n",
       "      <td>-26.445839</td>\n",
       "      <td>14.719639</td>\n",
       "      <td>-21.298677</td>\n",
       "      <td>-0.465993</td>\n",
       "      <td>-8.235730</td>\n",
       "      <td>-12.101176</td>\n",
       "      <td>-6.143368</td>\n",
       "      <td>...</td>\n",
       "      <td>4.056244e-11</td>\n",
       "      <td>1.796416e-11</td>\n",
       "      <td>3.824108e-11</td>\n",
       "      <td>4.180579e-11</td>\n",
       "      <td>3.803939e-11</td>\n",
       "      <td>1.566865e-11</td>\n",
       "      <td>4.359672e-11</td>\n",
       "      <td>4.830376e-11</td>\n",
       "      <td>8.015742e-11</td>\n",
       "      <td>angry</td>\n",
       "    </tr>\n",
       "    <tr>\n",
       "      <th>4238</th>\n",
       "      <td>912</td>\n",
       "      <td>-603.696594</td>\n",
       "      <td>56.273426</td>\n",
       "      <td>-25.628159</td>\n",
       "      <td>19.209103</td>\n",
       "      <td>-11.562325</td>\n",
       "      <td>-2.983479</td>\n",
       "      <td>-13.162412</td>\n",
       "      <td>-9.226983</td>\n",
       "      <td>-4.540275</td>\n",
       "      <td>...</td>\n",
       "      <td>1.010043e-11</td>\n",
       "      <td>8.031959e-12</td>\n",
       "      <td>2.427894e-11</td>\n",
       "      <td>1.376348e-11</td>\n",
       "      <td>1.461778e-11</td>\n",
       "      <td>9.511937e-12</td>\n",
       "      <td>1.739894e-11</td>\n",
       "      <td>1.660579e-11</td>\n",
       "      <td>2.154090e-11</td>\n",
       "      <td>happy</td>\n",
       "    </tr>\n",
       "    <tr>\n",
       "      <th>4239</th>\n",
       "      <td>1322</td>\n",
       "      <td>-642.866333</td>\n",
       "      <td>72.626450</td>\n",
       "      <td>-25.773512</td>\n",
       "      <td>20.778631</td>\n",
       "      <td>-0.327112</td>\n",
       "      <td>0.547904</td>\n",
       "      <td>-7.490463</td>\n",
       "      <td>-1.607295</td>\n",
       "      <td>-10.976254</td>\n",
       "      <td>...</td>\n",
       "      <td>1.018575e-11</td>\n",
       "      <td>7.107031e-12</td>\n",
       "      <td>1.306812e-11</td>\n",
       "      <td>1.400557e-11</td>\n",
       "      <td>1.538896e-11</td>\n",
       "      <td>8.717025e-12</td>\n",
       "      <td>1.394847e-11</td>\n",
       "      <td>1.088443e-11</td>\n",
       "      <td>1.137415e-11</td>\n",
       "      <td>neutral</td>\n",
       "    </tr>\n",
       "  </tbody>\n",
       "</table>\n",
       "<p>4240 rows × 182 columns</p>\n",
       "</div>"
      ],
      "text/plain": [
       "      Unnamed: 0           0          1          2          3          4  \\\n",
       "0           1737 -465.585449  83.555794   7.898191   1.845573   9.589481   \n",
       "1            358 -608.932800  56.456070 -45.398525  17.257446 -18.685335   \n",
       "2            277 -668.708923  66.747795 -11.002393  24.854563  -3.741007   \n",
       "3           2757 -545.600830  85.160782  26.692595  29.094379  15.003597   \n",
       "4           3432 -324.575592  43.163139 -24.836311  23.449015 -16.303528   \n",
       "...          ...         ...        ...        ...        ...        ...   \n",
       "4235        2949 -339.038940  42.536827 -24.625620  35.382183 -22.637024   \n",
       "4236        1580 -421.504242  64.692368  -4.980181  -4.194294 -18.406929   \n",
       "4237         209 -549.666748  44.521404 -26.445839  14.719639 -21.298677   \n",
       "4238         912 -603.696594  56.273426 -25.628159  19.209103 -11.562325   \n",
       "4239        1322 -642.866333  72.626450 -25.773512  20.778631  -0.327112   \n",
       "\n",
       "              5          6          7          8  ...           171  \\\n",
       "0     16.620991 -18.170990   8.031609 -16.714731  ...  1.614745e-04   \n",
       "1     -6.954247 -19.358278 -15.089822  -4.008198  ...  9.919672e-12   \n",
       "2      2.820232  -6.700864  -2.206323  -1.440481  ...  3.368504e-12   \n",
       "3     12.542657 -19.132849  -3.636678 -15.840714  ...  5.446315e-05   \n",
       "4     -1.034032  -9.414081   3.486397 -15.959109  ...  5.275351e-03   \n",
       "...         ...        ...        ...        ...  ...           ...   \n",
       "4235  -8.269244  -2.558137 -19.996466 -15.020565  ...  3.191106e-02   \n",
       "4236  11.884348 -16.636267  -7.729247 -23.249331  ...  2.040632e-04   \n",
       "4237  -0.465993  -8.235730 -12.101176  -6.143368  ...  4.056244e-11   \n",
       "4238  -2.983479 -13.162412  -9.226983  -4.540275  ...  1.010043e-11   \n",
       "4239   0.547904  -7.490463  -1.607295 -10.976254  ...  1.018575e-11   \n",
       "\n",
       "               172           173           174           175           176  \\\n",
       "0     1.489774e-04  1.082331e-04  7.832934e-05  3.076414e-05  9.439812e-06   \n",
       "1     9.638627e-12  3.004074e-11  2.009821e-11  1.407661e-11  1.301384e-11   \n",
       "2     3.332721e-12  7.175953e-12  4.500260e-12  5.371889e-12  3.719719e-12   \n",
       "3     1.059334e-05  5.718410e-06  3.124374e-06  2.469191e-06  1.688812e-06   \n",
       "4     6.099407e-03  4.937004e-03  4.090378e-03  7.883835e-04  2.051225e-04   \n",
       "...            ...           ...           ...           ...           ...   \n",
       "4235  2.830726e-02  1.731047e-02  3.925761e-03  3.666839e-03  1.765839e-03   \n",
       "4236  1.774058e-04  1.180428e-04  4.920479e-05  1.540893e-05  7.628550e-06   \n",
       "4237  1.796416e-11  3.824108e-11  4.180579e-11  3.803939e-11  1.566865e-11   \n",
       "4238  8.031959e-12  2.427894e-11  1.376348e-11  1.461778e-11  9.511937e-12   \n",
       "4239  7.107031e-12  1.306812e-11  1.400557e-11  1.538896e-11  8.717025e-12   \n",
       "\n",
       "               177           178           179    Emotion  \n",
       "0     2.091660e-06  2.957747e-07  2.364530e-08    disgust  \n",
       "1     1.577758e-11  2.411851e-11  2.308979e-11  surprised  \n",
       "2     5.621874e-12  5.378570e-12  5.130835e-12       fear  \n",
       "3     3.057819e-07  5.100989e-08  4.805832e-09        sad  \n",
       "4     8.221862e-05  3.210119e-05  3.558323e-06       fear  \n",
       "...            ...           ...           ...        ...  \n",
       "4235  4.299184e-04  9.000090e-05  5.620218e-06      angry  \n",
       "4236  2.600157e-06  5.838905e-07  7.337579e-08      angry  \n",
       "4237  4.359672e-11  4.830376e-11  8.015742e-11      angry  \n",
       "4238  1.739894e-11  1.660579e-11  2.154090e-11      happy  \n",
       "4239  1.394847e-11  1.088443e-11  1.137415e-11    neutral  \n",
       "\n",
       "[4240 rows x 182 columns]"
      ]
     },
     "execution_count": 61,
     "metadata": {},
     "output_type": "execute_result"
    }
   ],
   "source": [
    "dataframe"
   ]
  },
  {
   "cell_type": "code",
   "execution_count": 69,
   "metadata": {},
   "outputs": [],
   "source": [
    "#separating features and target outputs\n",
    "X = dataframe.drop('Emotion', axis = 1).values\n",
    "Y = dataframe['Emotion'].values"
   ]
  },
  {
   "cell_type": "markdown",
   "metadata": {},
   "source": [
    "SVM\n",
    " - Implementing SVM with Scikit-Learn"
   ]
  },
  {
   "cell_type": "code",
   "execution_count": 70,
   "metadata": {},
   "outputs": [],
   "source": [
    "import pandas as pd\n",
    "import numpy as np\n",
    "import matplotlib.pyplot as plt\n",
    "%matplotlib inline"
   ]
  },
  {
   "cell_type": "code",
   "execution_count": 71,
   "metadata": {},
   "outputs": [
    {
     "data": {
      "text/plain": [
       "((4240, 181), (4240,))"
      ]
     },
     "execution_count": 71,
     "metadata": {},
     "output_type": "execute_result"
    }
   ],
   "source": [
    "X.shape, Y.shape"
   ]
  },
  {
   "cell_type": "code",
   "execution_count": 72,
   "metadata": {},
   "outputs": [
    {
     "data": {
      "text/plain": [
       "array([[ 1.73700000e+03, -4.65585449e+02,  8.35557938e+01, ...,\n",
       "         2.09165955e-06,  2.95774669e-07,  2.36453008e-08],\n",
       "       [ 3.58000000e+02, -6.08932800e+02,  5.64560699e+01, ...,\n",
       "         1.57775841e-11,  2.41185075e-11,  2.30897888e-11],\n",
       "       [ 2.77000000e+02, -6.68708923e+02,  6.67477951e+01, ...,\n",
       "         5.62187449e-12,  5.37856955e-12,  5.13083456e-12],\n",
       "       ...,\n",
       "       [ 2.09000000e+02, -5.49666748e+02,  4.45214043e+01, ...,\n",
       "         4.35967200e-11,  4.83037603e-11,  8.01574154e-11],\n",
       "       [ 9.12000000e+02, -6.03696594e+02,  5.62734261e+01, ...,\n",
       "         1.73989399e-11,  1.66057862e-11,  2.15408958e-11],\n",
       "       [ 1.32200000e+03, -6.42866333e+02,  7.26264496e+01, ...,\n",
       "         1.39484717e-11,  1.08844279e-11,  1.13741473e-11]])"
      ]
     },
     "execution_count": 72,
     "metadata": {},
     "output_type": "execute_result"
    }
   ],
   "source": [
    "X"
   ]
  },
  {
   "cell_type": "code",
   "execution_count": 73,
   "metadata": {},
   "outputs": [
    {
     "data": {
      "text/plain": [
       "array(['disgust', 'surprised', 'fear', ..., 'angry', 'happy', 'neutral'],\n",
       "      dtype=object)"
      ]
     },
     "execution_count": 73,
     "metadata": {},
     "output_type": "execute_result"
    }
   ],
   "source": [
    "Y"
   ]
  },
  {
   "cell_type": "markdown",
   "metadata": {},
   "source": [
    "X variable contains attributes while y variable contains corresponding labels.\n",
    "\n",
    "Once the data is divided into attributes and labels, the final preprocessing step is to divide data into training and test sets. The model_selection library of the Scikit-Learn library contains the train_test_split method that allows us to divide data into training and test sets."
   ]
  },
  {
   "cell_type": "code",
   "execution_count": null,
   "metadata": {},
   "outputs": [],
   "source": [
    "from sklearn.model_selection import train_test_split\n",
    "X_train, X_test, Y_train, Y_test = train_test_split(X, Y, test_size = 0.20,random_state=4)"
   ]
  },
  {
   "cell_type": "code",
   "execution_count": null,
   "metadata": {},
   "outputs": [],
   "source": [
    "X_test"
   ]
  },
  {
   "cell_type": "code",
   "execution_count": null,
   "metadata": {},
   "outputs": [],
   "source": [
    "Y_test"
   ]
  },
  {
   "cell_type": "markdown",
   "metadata": {},
   "source": [
    "It is the time to train our SVM on the training data. Scikit-Learn contains the svm library, which contains built-in classes for different SVM algorithms. Since we are going to perform a classification task, we will use the support vector classifier class, which is written as SVC in the Scikit-Learn's svm library. We have set the kernel to linear."
   ]
  },
  {
   "cell_type": "code",
   "execution_count": 75,
   "metadata": {},
   "outputs": [],
   "source": [
    "from sklearn.svm import SVC\n",
    "svcclassifier=SVC(kernel='linear')"
   ]
  },
  {
   "cell_type": "markdown",
   "metadata": {},
   "source": [
    "\n",
    "The fit method of SVC class is called to train the algorithm on the training data, which is passed as a parameter to the fit method. Execute the following code to train the algorithm:"
   ]
  },
  {
   "cell_type": "code",
   "execution_count": null,
   "metadata": {},
   "outputs": [],
   "source": [
    "import time\n",
    "starting_time = time.time()\n",
    "svcclassifier.fit(X_train, Y_train)\n",
    "print(\"Trained model in %s ms \" % (time.time() - starting_time))"
   ]
  },
  {
   "cell_type": "markdown",
   "metadata": {},
   "source": [
    "To make predictions, the predict method of the SVC class is used."
   ]
  },
  {
   "cell_type": "code",
   "execution_count": null,
   "metadata": {},
   "outputs": [],
   "source": [
    "Y_pred = svcclassifier.predict(X_test)"
   ]
  },
  {
   "cell_type": "markdown",
   "metadata": {},
   "source": [
    "Confusion matrix, precision, recall, and F1 measures are the most commonly used metrics for classification tasks. Scikit-Learn's metrics library contains the classification_report and confusion_matrix methods, which can be readily used to find out the values for these important metrics. We have used the following code for finding these metrics:"
   ]
  },
  {
   "cell_type": "code",
   "execution_count": null,
   "metadata": {},
   "outputs": [],
   "source": []
  }
 ],
 "metadata": {
  "kernelspec": {
   "display_name": "Python 3",
   "language": "python",
   "name": "python3"
  },
  "language_info": {
   "codemirror_mode": {
    "name": "ipython",
    "version": 3
   },
   "file_extension": ".py",
   "mimetype": "text/x-python",
   "name": "python",
   "nbconvert_exporter": "python",
   "pygments_lexer": "ipython3",
   "version": "3.8.5"
  }
 },
 "nbformat": 4,
 "nbformat_minor": 4
}
